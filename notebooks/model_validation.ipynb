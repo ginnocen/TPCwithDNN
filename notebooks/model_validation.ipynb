{
 "cells": [
  {
   "cell_type": "markdown",
   "metadata": {},
   "source": [
    "# Notebook to evaluate trained model\n",
    "### Dashboards to be produced:\n",
    "* Radial distributions\n",
    "* Phi distributions\n",
    "* z distributions"
   ]
  },
  {
   "cell_type": "markdown",
   "metadata": {},
   "source": [
    "## Imports and global definitions"
   ]
  },
  {
   "cell_type": "code",
   "execution_count": null,
   "metadata": {},
   "outputs": [],
   "source": [
    "from bokeh.io import output_notebook\n",
    "import pandas as pd\n",
    "\n",
    "from RootInteractive.InteractiveDrawing.bokeh.bokehDrawSA import *\n",
    "from tpcwithdnn.tree_df_utils import tree_to_pandas, tree_to_pandas_ri\n",
    "\n",
    "output_notebook()"
   ]
  },
  {
   "cell_type": "code",
   "execution_count": null,
   "metadata": {},
   "outputs": [],
   "source": [
    "base_dir = \"/lustre/alice/users/hellbaer/NOTESData/JIRA/ATO-593/HitoshiData/with_vs_noNorm/20220916_withNorm\"  #\n",
    "tree_dir = \"%s/trees/phi180_r33_z33_nest100_depth3_lr1.000_tm-hist_g0.00_weight1.0_d0.0_sub0.80_colTree0.8_colLvl1.0_colNode1.0_a0.0_l0.00005_scale1.0_base0.50_pred_doR1_dophi0_doz0_input_z0.0-251.0_rndaugment_dpoints10_ftrain40_fapply40/\" % base_dir \n",
    "model_file = \"%s/validation_mean1.00_nEv200000.root\" % tree_dir             #\n",
    "display(model_file)"
   ]
  },
  {
   "cell_type": "markdown",
   "metadata": {},
   "source": [
    "## Load nd validation data"
   ]
  },
  {
   "cell_type": "code",
   "execution_count": null,
   "metadata": {},
   "outputs": [],
   "source": [
    "branches = [\"randomId\", \"meanId\", \"r\", \"phi\", \"z\", \"derRefMeanCorrR\", \"deltaSC\", \"flucCorrR\", \"flucCorrRPred\"]\n",
    "df = tree_to_pandas(model_file, 'validation', columns=branches)\n",
    "df['diffCorrR'] = df['flucCorrRPred'] - df['flucCorrR']\n",
    "display(df)"
   ]
  },
  {
   "cell_type": "markdown",
   "metadata": {},
   "source": [
    "## Radial distributions\n",
    "#### First row \n",
    "* true correction vs r\n",
    "* predicted correction vs r\n",
    "* difference between prediction and true vs r\n",
    "##### To Do: Convert these into scatter plots.\n",
    "\n",
    "#### Second row (histogrammed version)\n",
    "* 2D histogram: difference vs r\n",
    "    * distribution, mean, std\n",
    "    \n",
    "#### Second Dashboard for Z\n",
    "* make cut on the radius (83.5) to draw full z distribution"
   ]
  },
  {
   "cell_type": "code",
   "execution_count": null,
   "metadata": {},
   "outputs": [],
   "source": [
    "output_file(\"%s/figures/model_eval.html\" % base_dir)\n",
    "\n",
    "nBinsR = 33\n",
    "histoArray = [\n",
    "    #hists as function of R\n",
    "    {\"name\": \"RCorrR\", \"variables\": [\"r\", \"flucCorrR\"], \"nbins\": [nBinsR, 50], \"axis\": [1]},           #true correction\n",
    "    {\"name\": \"RCorrPredR\", \"variables\": [\"r\", \"flucCorrRPred\"], \"nbins\": [nBinsR, 50], \"axis\": [1]},   #predicted correction\n",
    "    {\"name\": \"hisdiffR\", \"variables\": [\"r\", \"diffCorrR\"],\"nbins\": [nBinsR, 50], \"axis\": [1]},          #difference between true and predicted corrections\n",
    "    #hists as function of Phi\n",
    "    {\"name\": \"RCorrPhi\", \"variables\": [\"phi\", \"flucCorrR\"], \"nbins\": [nBinsR, 50], \"axis\": [1]},          \n",
    "    {\"name\": \"RCorrPredPhi\", \"variables\": [\"phi\", \"flucCorrRPred\"], \"nbins\": [nBinsR, 50], \"axis\": [1]},   \n",
    "    {\"name\": \"hisdiffPhi\", \"variables\": [\"phi\", \"diffCorrR\"],\"nbins\": [nBinsR, 50], \"axis\": [1]}, \n",
    "]\n",
    "\n",
    "figureArray = [\n",
    "    #R Histograms\n",
    "    [['r'], ['flucCorrR']],      #corresponds to RCorrR\n",
    "    [['r'], ['flucCorrRPred']],  #corresponda to RCorrPredR\n",
    "    [['r'], ['diffCorrR']],      #corresponds to hisdiffR\n",
    "    [['r'], ['hisdiffR']],       #2D hist\n",
    "    [['hisdiffR_1.bin_center_0'], ['hisdiffR_1.mean']],  #_1 defines axis, bin_center_0 -> radial axis\n",
    "    [['hisdiffR_1.bin_center_0'], ['hisdiffR_1.std']],\n",
    "    #Phi Histograms\n",
    "    [['phi'], ['flucCorrR']],\n",
    "    [['phi'], ['flucCorrRPred']],\n",
    "    [['phi'], ['diffCorrR']],\n",
    "    [['phi'], ['hisdiffPhi']],\n",
    "    [['hisdiffPhi_1.bin_center_0'], ['hisdiffPhi_1.mean']],  \n",
    "    [['hisdiffPhi_1.bin_center_0'], ['hisdiffPhi_1.std']],\n",
    "    #table\n",
    "    [\"tableHisto\", {\"rowwise\": False}]                 #holds statistical properties of histograms\n",
    "]\n",
    "\n",
    "figureLayoutDesc={\n",
    "    \"R\": [\n",
    "         [0,1,2, {'plot_height':300}],             #first row\n",
    "         [4,5, {'plot_height':200}],               #second row\n",
    "         {'plot_height':240,'sizing_mode':'scale_width',\"legend_visible\":False}\n",
    "         ],\n",
    "    \"Phi\": [\n",
    "        [6,7,8, {'plot_height':300}],\n",
    "        [10,11, {'plot_height': 200}],\n",
    "        {'plot_height':240,'sizing_mode':'scale_width',\"legend_visible\":False}],\n",
    "    \"Summary table\": [\n",
    "        [12, {'plot_height':100}]]\n",
    "}\n",
    "\n",
    "\n",
    "widgetParams=[\n",
    "    ['range', ['r']],\n",
    "    ['range', ['phi']],\n",
    "    ['range', ['z']],\n",
    "    ['range', ['deltaSC']],\n",
    "    ['multiSelect', [\"randomId\"]],\n",
    "    ['multiSelect', [\"meanId\"]]\n",
    "]\n",
    "\n",
    "widgetLayoutDesc=[ \n",
    "    [0, 1, 2, 3],\n",
    "    [4, 5],\n",
    "    {'sizing_mode':'scale_width'} \n",
    "]\n",
    "\n",
    "tooltips = [(\"phi\", \"@phi\"), (\"r\", \"@r\"), (\"z\", \"@z\")]\n",
    "\n",
    "\n",
    "fig=bokehDrawSA.fromArray(df.sample(1000000), \"r>0 & z<1\", figureArray, widgetParams, layout=figureLayoutDesc, \n",
    "                          tooltips=tooltips, sizing_mode='scale_width', widgetLayout=widgetLayoutDesc, \n",
    "                          histogramArray=histoArray, rescaleColorMapper=True, nPointRender=6000)\n",
    "#fig=bokehDrawSA.fromArray(df.sample(1000000, replace=True), \"r>0 & z<1\", figureArray, widgetParams, layout=figureLayoutDesc, \n",
    "#                          tooltips=tooltips, sizing_mode='scale_width', widgetLayout=widgetLayoutDesc, \n",
    "#                          histogramArray=histoArray, rescaleColorMapper=True, nPointRender=6000)"
   ]
  },
  {
   "cell_type": "code",
   "execution_count": null,
   "metadata": {},
   "outputs": [],
   "source": [
    "histoArray = [\n",
    "     #hists as function of z\n",
    "    {\"name\": \"RCorrZ\", \"variables\": [\"z\", \"flucCorrR\"], \"nbins\": [25, 10], \"axis\": [0, 1]},          \n",
    "    {\"name\": \"RCorrPredZ\", \"variables\": [\"z\", \"flucCorrRPred\"], \"nbins\": [25, 10], \"axis\": [0, 1]},   \n",
    "    {\"name\": \"hisdiffZ\", \"variables\": [\"z\", \"diffCorrR\"],\"nbins\": [25, 20], \"axis\": [0, 1]}, \n",
    "]\n",
    "\n",
    "figureArray = [\n",
    "    #Z Histograms\n",
    "    [['z'], ['flucCorrR']],\n",
    "    [['z'], ['flucCorrRPred']],\n",
    "    [['z'], ['diffCorrR']],\n",
    "    [['z'], ['hisdiffZ']],\n",
    "    [['hisdiffZ_1.bin_center_0'], ['hisdiffZ_1.mean']], \n",
    "    [['hisdiffZ_1.bin_center_0'], ['hisdiffZ_1.std']],\n",
    "    #R table\n",
    "    [\"tableHisto\", {\"rowwise\": False}]                 #holds statistical properties of histograms\n",
    "]\n",
    "\n",
    "\n",
    "figureLayoutDesc={\n",
    "    \"Z\": [\n",
    "         [0,1,2, {'plot_height':400}],             #first row\n",
    "         [3,4,5, {'plot_height':400}],               #second row\n",
    "         [6, {'plot_height':100}],\n",
    "         {'plot_height':240,'sizing_mode':'scale_width',\"legend_visible\":False}\n",
    "         ]\n",
    "}\n",
    "\n",
    "\n",
    "widgetParams=[\n",
    "    ['range', ['r']],\n",
    "    ['range', ['phi']],\n",
    "    ['range', ['z']],\n",
    "    ['multiSelect', [\"randomId\"]],\n",
    "    ['multiSelect', [\"meanId\"]],\n",
    "    ['range', ['deltaSC']]\n",
    "]\n",
    "\n",
    "widgetLayoutDesc=[ \n",
    "    [0, 1, 2],\n",
    "    [3, 4, 5],\n",
    "    {'sizing_mode':'scale_width'} \n",
    "]\n",
    "\n",
    "tooltips = [(\"phi\", \"@phi\"), (\"r\", \"@r\"), (\"z\", \"@z\")]\n",
    "\n",
    "#restrict r to view full z\n",
    "fig=bokehDrawSA.fromArray(df.sample(1000000), \"r<84 & z>0\", figureArray, widgetParams, layout=figureLayoutDesc, \n",
    "                          tooltips=tooltips, sizing_mode='scale_width', widgetLayout=widgetLayoutDesc, \n",
    "                          histogramArray=histoArray, rescaleColorMapper=True, nPointRender=6000)\n"
   ]
  },
  {
   "cell_type": "code",
   "execution_count": null,
   "metadata": {},
   "outputs": [],
   "source": []
  }
 ],
 "metadata": {
  "kernelspec": {
   "display_name": "Python 3",
   "language": "python",
   "name": "python3"
  },
  "language_info": {
   "codemirror_mode": {
    "name": "ipython",
    "version": 3
   },
   "file_extension": ".py",
   "mimetype": "text/x-python",
   "name": "python",
   "nbconvert_exporter": "python",
   "pygments_lexer": "ipython3",
   "version": "3.6.9"
  },
  "toc": {
   "base_numbering": 1,
   "nav_menu": {},
   "number_sections": false,
   "sideBar": false,
   "skip_h1_title": false,
   "title_cell": "Table of Contents",
   "title_sidebar": "Contents",
   "toc_cell": false,
   "toc_position": {},
   "toc_section_display": false,
   "toc_window_display": false
  }
 },
 "nbformat": 4,
 "nbformat_minor": 4
}
