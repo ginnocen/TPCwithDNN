{
 "cells": [
  {
   "cell_type": "markdown",
   "metadata": {},
   "source": [
    "# Notebook to evaluate trained model\n",
    "### Dashboards to be produced:\n",
    "* Radial distributions\n",
    "* Phi distributions\n",
    "* z distributions"
   ]
  },
  {
   "cell_type": "markdown",
   "metadata": {},
   "source": [
    "## Imports and global definitions"
   ]
  },
  {
   "cell_type": "code",
   "execution_count": 1,
   "metadata": {},
   "outputs": [
    {
     "name": "stdout",
     "output_type": "stream",
     "text": [
      "Welcome to JupyROOT 6.14/06\n",
      "x bokehVisJS3DGraph.ts\n",
      "x HistogramCDS.ts\n",
      "Import  CDSCompress.ts\n",
      "Import  DownsamplerCDS.ts\n",
      "Import  CDSAlias.ts\n",
      "Import  CDSJoin.ts\n"
     ]
    },
    {
     "ename": "RuntimeError",
     "evalue": "node.js v10.13.0 or higher is needed to allow compilation of custom models (\"conda install nodejs\" or follow https://nodejs.org/en/download/)",
     "output_type": "error",
     "traceback": [
      "\u001b[0;31m---------------------------------------------------------------------------\u001b[0m",
      "\u001b[0;31mRuntimeError\u001b[0m                              Traceback (most recent call last)",
      "\u001b[0;32m<ipython-input-1-fdb3c57ab5ab>\u001b[0m in \u001b[0;36m<module>\u001b[0;34m\u001b[0m\n\u001b[1;32m      5\u001b[0m \u001b[0;32mfrom\u001b[0m \u001b[0mtpcwithdnn\u001b[0m\u001b[0;34m.\u001b[0m\u001b[0mtree_df_utils\u001b[0m \u001b[0;32mimport\u001b[0m \u001b[0mtree_to_pandas\u001b[0m\u001b[0;34m,\u001b[0m \u001b[0mtree_to_pandas_ri\u001b[0m\u001b[0;34m\u001b[0m\u001b[0;34m\u001b[0m\u001b[0m\n\u001b[1;32m      6\u001b[0m \u001b[0;34m\u001b[0m\u001b[0m\n\u001b[0;32m----> 7\u001b[0;31m \u001b[0moutput_notebook\u001b[0m\u001b[0;34m(\u001b[0m\u001b[0;34m)\u001b[0m\u001b[0;34m\u001b[0m\u001b[0;34m\u001b[0m\u001b[0m\n\u001b[0m",
      "\u001b[0;32m~/.virtualenvs/ml/lib/python3.6/site-packages/bokeh/io/output.py\u001b[0m in \u001b[0;36moutput_notebook\u001b[0;34m(resources, verbose, hide_banner, load_timeout, notebook_type)\u001b[0m\n\u001b[1;32m    109\u001b[0m     \u001b[0;31m# verify notebook_type first in curstate().output_notebook\u001b[0m\u001b[0;34m\u001b[0m\u001b[0;34m\u001b[0m\u001b[0;34m\u001b[0m\u001b[0m\n\u001b[1;32m    110\u001b[0m     \u001b[0mcurstate\u001b[0m\u001b[0;34m(\u001b[0m\u001b[0;34m)\u001b[0m\u001b[0;34m.\u001b[0m\u001b[0moutput_notebook\u001b[0m\u001b[0;34m(\u001b[0m\u001b[0mnotebook_type\u001b[0m\u001b[0;34m)\u001b[0m\u001b[0;34m\u001b[0m\u001b[0;34m\u001b[0m\u001b[0m\n\u001b[0;32m--> 111\u001b[0;31m     \u001b[0mrun_notebook_hook\u001b[0m\u001b[0;34m(\u001b[0m\u001b[0mnotebook_type\u001b[0m\u001b[0;34m,\u001b[0m \u001b[0;34m'load'\u001b[0m\u001b[0;34m,\u001b[0m \u001b[0mresources\u001b[0m\u001b[0;34m,\u001b[0m \u001b[0mverbose\u001b[0m\u001b[0;34m,\u001b[0m \u001b[0mhide_banner\u001b[0m\u001b[0;34m,\u001b[0m \u001b[0mload_timeout\u001b[0m\u001b[0;34m)\u001b[0m\u001b[0;34m\u001b[0m\u001b[0;34m\u001b[0m\u001b[0m\n\u001b[0m\u001b[1;32m    112\u001b[0m \u001b[0;34m\u001b[0m\u001b[0m\n\u001b[1;32m    113\u001b[0m \u001b[0;32mdef\u001b[0m \u001b[0mreset_output\u001b[0m\u001b[0;34m(\u001b[0m\u001b[0mstate\u001b[0m\u001b[0;34m=\u001b[0m\u001b[0;32mNone\u001b[0m\u001b[0;34m)\u001b[0m\u001b[0;34m:\u001b[0m\u001b[0;34m\u001b[0m\u001b[0;34m\u001b[0m\u001b[0m\n",
      "\u001b[0;32m~/.virtualenvs/ml/lib/python3.6/site-packages/bokeh/io/notebook.py\u001b[0m in \u001b[0;36mrun_notebook_hook\u001b[0;34m(notebook_type, action, *args, **kw)\u001b[0m\n\u001b[1;32m    296\u001b[0m     \u001b[0;32mif\u001b[0m \u001b[0m_HOOKS\u001b[0m\u001b[0;34m[\u001b[0m\u001b[0mnotebook_type\u001b[0m\u001b[0;34m]\u001b[0m\u001b[0;34m[\u001b[0m\u001b[0maction\u001b[0m\u001b[0;34m]\u001b[0m \u001b[0;32mis\u001b[0m \u001b[0;32mNone\u001b[0m\u001b[0;34m:\u001b[0m\u001b[0;34m\u001b[0m\u001b[0;34m\u001b[0m\u001b[0m\n\u001b[1;32m    297\u001b[0m         \u001b[0;32mraise\u001b[0m \u001b[0mRuntimeError\u001b[0m\u001b[0;34m(\u001b[0m\u001b[0;34m\"notebook hook for %r did not install %r action\"\u001b[0m \u001b[0;34m%\u001b[0m \u001b[0mnotebook_type\u001b[0m\u001b[0;34m,\u001b[0m \u001b[0maction\u001b[0m\u001b[0;34m)\u001b[0m\u001b[0;34m\u001b[0m\u001b[0;34m\u001b[0m\u001b[0m\n\u001b[0;32m--> 298\u001b[0;31m     \u001b[0;32mreturn\u001b[0m \u001b[0m_HOOKS\u001b[0m\u001b[0;34m[\u001b[0m\u001b[0mnotebook_type\u001b[0m\u001b[0;34m]\u001b[0m\u001b[0;34m[\u001b[0m\u001b[0maction\u001b[0m\u001b[0;34m]\u001b[0m\u001b[0;34m(\u001b[0m\u001b[0;34m*\u001b[0m\u001b[0margs\u001b[0m\u001b[0;34m,\u001b[0m \u001b[0;34m**\u001b[0m\u001b[0mkw\u001b[0m\u001b[0;34m)\u001b[0m\u001b[0;34m\u001b[0m\u001b[0;34m\u001b[0m\u001b[0m\n\u001b[0m\u001b[1;32m    299\u001b[0m \u001b[0;34m\u001b[0m\u001b[0m\n\u001b[1;32m    300\u001b[0m \u001b[0;31m#-----------------------------------------------------------------------------\u001b[0m\u001b[0;34m\u001b[0m\u001b[0;34m\u001b[0m\u001b[0;34m\u001b[0m\u001b[0m\n",
      "\u001b[0;32m~/.virtualenvs/ml/lib/python3.6/site-packages/bokeh/io/notebook.py\u001b[0m in \u001b[0;36mload_notebook\u001b[0;34m(resources, verbose, hide_banner, load_timeout)\u001b[0m\n\u001b[1;32m    407\u001b[0m     \u001b[0m_NOTEBOOK_LOADED\u001b[0m \u001b[0;34m=\u001b[0m \u001b[0mresources\u001b[0m\u001b[0;34m\u001b[0m\u001b[0;34m\u001b[0m\u001b[0m\n\u001b[1;32m    408\u001b[0m \u001b[0;34m\u001b[0m\u001b[0m\n\u001b[0;32m--> 409\u001b[0;31m     \u001b[0mbundle\u001b[0m \u001b[0;34m=\u001b[0m \u001b[0mbundle_for_objs_and_resources\u001b[0m\u001b[0;34m(\u001b[0m\u001b[0;32mNone\u001b[0m\u001b[0;34m,\u001b[0m \u001b[0mresources\u001b[0m\u001b[0;34m)\u001b[0m\u001b[0;34m\u001b[0m\u001b[0;34m\u001b[0m\u001b[0m\n\u001b[0m\u001b[1;32m    410\u001b[0m \u001b[0;34m\u001b[0m\u001b[0m\n\u001b[1;32m    411\u001b[0m     \u001b[0mnb_js\u001b[0m \u001b[0;34m=\u001b[0m \u001b[0m_loading_js\u001b[0m\u001b[0;34m(\u001b[0m\u001b[0mbundle\u001b[0m\u001b[0;34m,\u001b[0m \u001b[0melement_id\u001b[0m\u001b[0;34m,\u001b[0m \u001b[0mload_timeout\u001b[0m\u001b[0;34m,\u001b[0m \u001b[0mregister_mime\u001b[0m\u001b[0;34m=\u001b[0m\u001b[0;32mTrue\u001b[0m\u001b[0;34m)\u001b[0m\u001b[0;34m\u001b[0m\u001b[0;34m\u001b[0m\u001b[0m\n",
      "\u001b[0;32m~/.virtualenvs/ml/lib/python3.6/site-packages/bokeh/embed/bundle.py\u001b[0m in \u001b[0;36mbundle_for_objs_and_resources\u001b[0;34m(objs, resources)\u001b[0m\n\u001b[1;32m    193\u001b[0m \u001b[0;34m\u001b[0m\u001b[0m\n\u001b[1;32m    194\u001b[0m     \u001b[0mmodels\u001b[0m \u001b[0;34m=\u001b[0m \u001b[0;34m[\u001b[0m \u001b[0mobj\u001b[0m\u001b[0;34m.\u001b[0m\u001b[0m__class__\u001b[0m \u001b[0;32mfor\u001b[0m \u001b[0mobj\u001b[0m \u001b[0;32min\u001b[0m \u001b[0m_all_objs\u001b[0m\u001b[0;34m(\u001b[0m\u001b[0mobjs\u001b[0m\u001b[0;34m)\u001b[0m \u001b[0;34m]\u001b[0m \u001b[0;32mif\u001b[0m \u001b[0mobjs\u001b[0m \u001b[0;32melse\u001b[0m \u001b[0;32mNone\u001b[0m\u001b[0;34m\u001b[0m\u001b[0;34m\u001b[0m\u001b[0m\n\u001b[0;32m--> 195\u001b[0;31m     \u001b[0mext\u001b[0m \u001b[0;34m=\u001b[0m \u001b[0mbundle_models\u001b[0m\u001b[0;34m(\u001b[0m\u001b[0mmodels\u001b[0m\u001b[0;34m)\u001b[0m\u001b[0;34m\u001b[0m\u001b[0;34m\u001b[0m\u001b[0m\n\u001b[0m\u001b[1;32m    196\u001b[0m     \u001b[0;32mif\u001b[0m \u001b[0mext\u001b[0m \u001b[0;32mis\u001b[0m \u001b[0;32mnot\u001b[0m \u001b[0;32mNone\u001b[0m\u001b[0;34m:\u001b[0m\u001b[0;34m\u001b[0m\u001b[0;34m\u001b[0m\u001b[0m\n\u001b[1;32m    197\u001b[0m         \u001b[0mjs_raw\u001b[0m\u001b[0;34m.\u001b[0m\u001b[0mappend\u001b[0m\u001b[0;34m(\u001b[0m\u001b[0mext\u001b[0m\u001b[0;34m)\u001b[0m\u001b[0;34m\u001b[0m\u001b[0;34m\u001b[0m\u001b[0m\n",
      "\u001b[0;32m~/.virtualenvs/ml/lib/python3.6/site-packages/bokeh/util/compiler.py\u001b[0m in \u001b[0;36mbundle_models\u001b[0;34m(models)\u001b[0m\n\u001b[1;32m    293\u001b[0m     \u001b[0;32mif\u001b[0m \u001b[0mbundle\u001b[0m \u001b[0;32mis\u001b[0m \u001b[0;32mNone\u001b[0m\u001b[0;34m:\u001b[0m\u001b[0;34m\u001b[0m\u001b[0;34m\u001b[0m\u001b[0m\n\u001b[1;32m    294\u001b[0m         \u001b[0;32mtry\u001b[0m\u001b[0;34m:\u001b[0m\u001b[0;34m\u001b[0m\u001b[0;34m\u001b[0m\u001b[0m\n\u001b[0;32m--> 295\u001b[0;31m             \u001b[0m_bundle_cache\u001b[0m\u001b[0;34m[\u001b[0m\u001b[0mkey\u001b[0m\u001b[0;34m]\u001b[0m \u001b[0;34m=\u001b[0m \u001b[0mbundle\u001b[0m \u001b[0;34m=\u001b[0m \u001b[0m_bundle_models\u001b[0m\u001b[0;34m(\u001b[0m\u001b[0mcustom_models\u001b[0m\u001b[0;34m)\u001b[0m\u001b[0;34m\u001b[0m\u001b[0;34m\u001b[0m\u001b[0m\n\u001b[0m\u001b[1;32m    296\u001b[0m         \u001b[0;32mexcept\u001b[0m \u001b[0mCompilationError\u001b[0m \u001b[0;32mas\u001b[0m \u001b[0merror\u001b[0m\u001b[0;34m:\u001b[0m\u001b[0;34m\u001b[0m\u001b[0;34m\u001b[0m\u001b[0m\n\u001b[1;32m    297\u001b[0m             \u001b[0mprint\u001b[0m\u001b[0;34m(\u001b[0m\u001b[0;34m\"Compilation failed:\"\u001b[0m\u001b[0;34m,\u001b[0m \u001b[0mfile\u001b[0m\u001b[0;34m=\u001b[0m\u001b[0msys\u001b[0m\u001b[0;34m.\u001b[0m\u001b[0mstderr\u001b[0m\u001b[0;34m)\u001b[0m\u001b[0;34m\u001b[0m\u001b[0;34m\u001b[0m\u001b[0m\n",
      "\u001b[0;32m~/.virtualenvs/ml/lib/python3.6/site-packages/bokeh/util/compiler.py\u001b[0m in \u001b[0;36m_bundle_models\u001b[0;34m(custom_models)\u001b[0m\n\u001b[1;32m    506\u001b[0m             \u001b[0mknown_modules\u001b[0m\u001b[0;34m.\u001b[0m\u001b[0madd\u001b[0m\u001b[0;34m(\u001b[0m\u001b[0mcanonical\u001b[0m\u001b[0;34m)\u001b[0m\u001b[0;34m\u001b[0m\u001b[0;34m\u001b[0m\u001b[0m\n\u001b[1;32m    507\u001b[0m \u001b[0;34m\u001b[0m\u001b[0m\n\u001b[0;32m--> 508\u001b[0;31m     \u001b[0mcustom_impls\u001b[0m \u001b[0;34m=\u001b[0m \u001b[0m_compile_models\u001b[0m\u001b[0;34m(\u001b[0m\u001b[0mcustom_models\u001b[0m\u001b[0;34m)\u001b[0m\u001b[0;34m\u001b[0m\u001b[0;34m\u001b[0m\u001b[0m\n\u001b[0m\u001b[1;32m    509\u001b[0m \u001b[0;34m\u001b[0m\u001b[0m\n\u001b[1;32m    510\u001b[0m     \u001b[0mextra_modules\u001b[0m \u001b[0;34m=\u001b[0m \u001b[0;34m{\u001b[0m\u001b[0;34m}\u001b[0m\u001b[0;34m\u001b[0m\u001b[0;34m\u001b[0m\u001b[0m\n",
      "\u001b[0;32m~/.virtualenvs/ml/lib/python3.6/site-packages/bokeh/util/compiler.py\u001b[0m in \u001b[0;36m_compile_models\u001b[0;34m(custom_models)\u001b[0m\n\u001b[1;32m    483\u001b[0m         \u001b[0mcompiled\u001b[0m \u001b[0;34m=\u001b[0m \u001b[0m_CACHING_IMPLEMENTATION\u001b[0m\u001b[0;34m(\u001b[0m\u001b[0mmodel\u001b[0m\u001b[0;34m,\u001b[0m \u001b[0mimpl\u001b[0m\u001b[0;34m)\u001b[0m\u001b[0;34m\u001b[0m\u001b[0;34m\u001b[0m\u001b[0m\n\u001b[1;32m    484\u001b[0m         \u001b[0;32mif\u001b[0m \u001b[0mcompiled\u001b[0m \u001b[0;32mis\u001b[0m \u001b[0;32mNone\u001b[0m\u001b[0;34m:\u001b[0m\u001b[0;34m\u001b[0m\u001b[0;34m\u001b[0m\u001b[0m\n\u001b[0;32m--> 485\u001b[0;31m             \u001b[0mcompiled\u001b[0m \u001b[0;34m=\u001b[0m \u001b[0mnodejs_compile\u001b[0m\u001b[0;34m(\u001b[0m\u001b[0mimpl\u001b[0m\u001b[0;34m.\u001b[0m\u001b[0mcode\u001b[0m\u001b[0;34m,\u001b[0m \u001b[0mlang\u001b[0m\u001b[0;34m=\u001b[0m\u001b[0mimpl\u001b[0m\u001b[0;34m.\u001b[0m\u001b[0mlang\u001b[0m\u001b[0;34m,\u001b[0m \u001b[0mfile\u001b[0m\u001b[0;34m=\u001b[0m\u001b[0mimpl\u001b[0m\u001b[0;34m.\u001b[0m\u001b[0mfile\u001b[0m\u001b[0;34m)\u001b[0m\u001b[0;34m\u001b[0m\u001b[0;34m\u001b[0m\u001b[0m\n\u001b[0m\u001b[1;32m    486\u001b[0m \u001b[0;34m\u001b[0m\u001b[0m\n\u001b[1;32m    487\u001b[0m         \u001b[0;32mif\u001b[0m \u001b[0;34m\"error\"\u001b[0m \u001b[0;32min\u001b[0m \u001b[0mcompiled\u001b[0m\u001b[0;34m:\u001b[0m\u001b[0;34m\u001b[0m\u001b[0;34m\u001b[0m\u001b[0m\n",
      "\u001b[0;32m~/.virtualenvs/ml/lib/python3.6/site-packages/bokeh/util/compiler.py\u001b[0m in \u001b[0;36mnodejs_compile\u001b[0;34m(code, lang, file)\u001b[0m\n\u001b[1;32m     98\u001b[0m \u001b[0;32mdef\u001b[0m \u001b[0mnodejs_compile\u001b[0m\u001b[0;34m(\u001b[0m\u001b[0mcode\u001b[0m\u001b[0;34m,\u001b[0m \u001b[0mlang\u001b[0m\u001b[0;34m=\u001b[0m\u001b[0;34m\"javascript\"\u001b[0m\u001b[0;34m,\u001b[0m \u001b[0mfile\u001b[0m\u001b[0;34m=\u001b[0m\u001b[0;32mNone\u001b[0m\u001b[0;34m)\u001b[0m\u001b[0;34m:\u001b[0m\u001b[0;34m\u001b[0m\u001b[0;34m\u001b[0m\u001b[0m\n\u001b[1;32m     99\u001b[0m     \u001b[0mcompilejs_script\u001b[0m \u001b[0;34m=\u001b[0m \u001b[0mjoin\u001b[0m\u001b[0;34m(\u001b[0m\u001b[0mbokehjs_dir\u001b[0m\u001b[0;34m,\u001b[0m \u001b[0;34m\"js\"\u001b[0m\u001b[0;34m,\u001b[0m \u001b[0;34m\"compiler.js\"\u001b[0m\u001b[0;34m)\u001b[0m\u001b[0;34m\u001b[0m\u001b[0;34m\u001b[0m\u001b[0m\n\u001b[0;32m--> 100\u001b[0;31m     \u001b[0moutput\u001b[0m \u001b[0;34m=\u001b[0m \u001b[0m_run_nodejs\u001b[0m\u001b[0;34m(\u001b[0m\u001b[0;34m[\u001b[0m\u001b[0mcompilejs_script\u001b[0m\u001b[0;34m]\u001b[0m\u001b[0;34m,\u001b[0m \u001b[0mdict\u001b[0m\u001b[0;34m(\u001b[0m\u001b[0mcode\u001b[0m\u001b[0;34m=\u001b[0m\u001b[0mcode\u001b[0m\u001b[0;34m,\u001b[0m \u001b[0mlang\u001b[0m\u001b[0;34m=\u001b[0m\u001b[0mlang\u001b[0m\u001b[0;34m,\u001b[0m \u001b[0mfile\u001b[0m\u001b[0;34m=\u001b[0m\u001b[0mfile\u001b[0m\u001b[0;34m,\u001b[0m \u001b[0mbokehjs_dir\u001b[0m\u001b[0;34m=\u001b[0m\u001b[0mbokehjs_dir\u001b[0m\u001b[0;34m)\u001b[0m\u001b[0;34m)\u001b[0m\u001b[0;34m\u001b[0m\u001b[0;34m\u001b[0m\u001b[0m\n\u001b[0m\u001b[1;32m    101\u001b[0m     \u001b[0mlines\u001b[0m \u001b[0;34m=\u001b[0m \u001b[0moutput\u001b[0m\u001b[0;34m.\u001b[0m\u001b[0msplit\u001b[0m\u001b[0;34m(\u001b[0m\u001b[0;34m\"\\n\"\u001b[0m\u001b[0;34m)\u001b[0m\u001b[0;34m\u001b[0m\u001b[0;34m\u001b[0m\u001b[0m\n\u001b[1;32m    102\u001b[0m     \u001b[0;32mfor\u001b[0m \u001b[0mi\u001b[0m\u001b[0;34m,\u001b[0m \u001b[0mline\u001b[0m \u001b[0;32min\u001b[0m \u001b[0menumerate\u001b[0m\u001b[0;34m(\u001b[0m\u001b[0mlines\u001b[0m\u001b[0;34m)\u001b[0m\u001b[0;34m:\u001b[0m\u001b[0;34m\u001b[0m\u001b[0;34m\u001b[0m\u001b[0m\n",
      "\u001b[0;32m~/.virtualenvs/ml/lib/python3.6/site-packages/bokeh/util/compiler.py\u001b[0m in \u001b[0;36m_run_nodejs\u001b[0;34m(argv, input)\u001b[0m\n\u001b[1;32m    430\u001b[0m \u001b[0;34m\u001b[0m\u001b[0m\n\u001b[1;32m    431\u001b[0m \u001b[0;32mdef\u001b[0m \u001b[0m_run_nodejs\u001b[0m\u001b[0;34m(\u001b[0m\u001b[0margv\u001b[0m\u001b[0;34m,\u001b[0m \u001b[0minput\u001b[0m\u001b[0;34m=\u001b[0m\u001b[0;32mNone\u001b[0m\u001b[0;34m)\u001b[0m\u001b[0;34m:\u001b[0m\u001b[0;34m\u001b[0m\u001b[0;34m\u001b[0m\u001b[0m\n\u001b[0;32m--> 432\u001b[0;31m     \u001b[0;32mreturn\u001b[0m \u001b[0m_run\u001b[0m\u001b[0;34m(\u001b[0m\u001b[0m_nodejs_path\u001b[0m\u001b[0;34m(\u001b[0m\u001b[0;34m)\u001b[0m\u001b[0;34m,\u001b[0m \u001b[0margv\u001b[0m\u001b[0;34m,\u001b[0m \u001b[0minput\u001b[0m\u001b[0;34m)\u001b[0m\u001b[0;34m\u001b[0m\u001b[0;34m\u001b[0m\u001b[0m\n\u001b[0m\u001b[1;32m    433\u001b[0m \u001b[0;34m\u001b[0m\u001b[0m\n\u001b[1;32m    434\u001b[0m \u001b[0;32mdef\u001b[0m \u001b[0m_run_npmjs\u001b[0m\u001b[0;34m(\u001b[0m\u001b[0margv\u001b[0m\u001b[0;34m,\u001b[0m \u001b[0minput\u001b[0m\u001b[0;34m=\u001b[0m\u001b[0;32mNone\u001b[0m\u001b[0;34m)\u001b[0m\u001b[0;34m:\u001b[0m\u001b[0;34m\u001b[0m\u001b[0;34m\u001b[0m\u001b[0m\n",
      "\u001b[0;32m~/.virtualenvs/ml/lib/python3.6/site-packages/bokeh/util/compiler.py\u001b[0m in \u001b[0;36m_nodejs_path\u001b[0;34m()\u001b[0m\n\u001b[1;32m    406\u001b[0m     \u001b[0;32mglobal\u001b[0m \u001b[0m_nodejs\u001b[0m\u001b[0;34m\u001b[0m\u001b[0;34m\u001b[0m\u001b[0m\n\u001b[1;32m    407\u001b[0m     \u001b[0;32mif\u001b[0m \u001b[0m_nodejs\u001b[0m \u001b[0;32mis\u001b[0m \u001b[0;32mNone\u001b[0m\u001b[0;34m:\u001b[0m\u001b[0;34m\u001b[0m\u001b[0;34m\u001b[0m\u001b[0m\n\u001b[0;32m--> 408\u001b[0;31m         \u001b[0m_nodejs\u001b[0m \u001b[0;34m=\u001b[0m \u001b[0m_detect_nodejs\u001b[0m\u001b[0;34m(\u001b[0m\u001b[0;34m)\u001b[0m\u001b[0;34m\u001b[0m\u001b[0;34m\u001b[0m\u001b[0m\n\u001b[0m\u001b[1;32m    409\u001b[0m     \u001b[0;32mreturn\u001b[0m \u001b[0m_nodejs\u001b[0m\u001b[0;34m\u001b[0m\u001b[0;34m\u001b[0m\u001b[0m\n\u001b[1;32m    410\u001b[0m \u001b[0;34m\u001b[0m\u001b[0m\n",
      "\u001b[0;32m~/.virtualenvs/ml/lib/python3.6/site-packages/bokeh/util/compiler.py\u001b[0m in \u001b[0;36m_detect_nodejs\u001b[0;34m()\u001b[0m\n\u001b[1;32m    398\u001b[0m     \u001b[0mversion\u001b[0m \u001b[0;34m=\u001b[0m \u001b[0;34m\".\"\u001b[0m\u001b[0;34m.\u001b[0m\u001b[0mjoin\u001b[0m\u001b[0;34m(\u001b[0m\u001b[0mmap\u001b[0m\u001b[0;34m(\u001b[0m\u001b[0mstr\u001b[0m\u001b[0;34m,\u001b[0m \u001b[0mnodejs_min_version\u001b[0m\u001b[0;34m)\u001b[0m\u001b[0;34m)\u001b[0m\u001b[0;34m\u001b[0m\u001b[0;34m\u001b[0m\u001b[0m\n\u001b[1;32m    399\u001b[0m     raise RuntimeError('node.js v%s or higher is needed to allow compilation of custom models ' % version +\n\u001b[0;32m--> 400\u001b[0;31m                        '(\"conda install nodejs\" or follow https://nodejs.org/en/download/)')\n\u001b[0m\u001b[1;32m    401\u001b[0m \u001b[0;34m\u001b[0m\u001b[0m\n\u001b[1;32m    402\u001b[0m \u001b[0m_nodejs\u001b[0m \u001b[0;34m=\u001b[0m \u001b[0;32mNone\u001b[0m\u001b[0;34m\u001b[0m\u001b[0;34m\u001b[0m\u001b[0m\n",
      "\u001b[0;31mRuntimeError\u001b[0m: node.js v10.13.0 or higher is needed to allow compilation of custom models (\"conda install nodejs\" or follow https://nodejs.org/en/download/)"
     ]
    }
   ],
   "source": [
    "from bokeh.io import output_notebook\n",
    "import pandas as pd\n",
    "\n",
    "from RootInteractive.InteractiveDrawing.bokeh.bokehDrawSA import *\n",
    "from tpcwithdnn.tree_df_utils import tree_to_pandas, tree_to_pandas_ri\n",
    "\n",
    "output_notebook()"
   ]
  },
  {
   "cell_type": "code",
   "execution_count": null,
   "metadata": {},
   "outputs": [],
   "source": [
    "base_dir = \"/lustre/alice/users/hellbaer/NOTESData/JIRA/ATO-593/HitoshiData/with_vs_noNorm/20220916_withNorm\"  #\n",
    "tree_dir = \"%s/trees/phi180_r33_z33_nest100_depth3_lr1.000_tm-hist_g0.00_weight1.0_d0.0_sub0.80_colTree0.8_colLvl1.0_colNode1.0_a0.0_l0.00005_scale1.0_base0.50_pred_doR1_dophi0_doz0_input_z0.0-251.0_rndaugment_dpoints10_ftrain40_fapply40/\" % base_dir \n",
    "model_file = \"%s/validation_mean1.00_nEv200000.root\" % tree_dir             #\n",
    "display(model_file)"
   ]
  },
  {
   "cell_type": "markdown",
   "metadata": {},
   "source": [
    "## Load nd validation data"
   ]
  },
  {
   "cell_type": "code",
   "execution_count": null,
   "metadata": {},
   "outputs": [],
   "source": [
    "branches = [\"randomId\", \"meanId\", \"r\", \"phi\", \"z\", \"derRefMeanCorrR\", \"deltaSC\", \"flucCorrR\", \"flucCorrRPred\"]\n",
    "df = tree_to_pandas(model_file, 'validation', columns=branches)\n",
    "df['diffCorrR'] = df['flucCorrRPred'] - df['flucCorrR']\n",
    "display(df)"
   ]
  },
  {
   "cell_type": "markdown",
   "metadata": {},
   "source": [
    "## Radial distributions\n",
    "#### First row \n",
    "* true correction vs r\n",
    "* predicted correction vs r\n",
    "* difference between prediction and true vs r\n",
    "##### To Do: Convert these into scatter plots.\n",
    "\n",
    "#### Second row (histogrammed version)\n",
    "* 2D histogram: difference vs r\n",
    "    * distribution, mean, std\n",
    "    \n",
    "#### Second Dashboard for Z\n",
    "* make cut on the radius (83.5) to draw full z distribution"
   ]
  },
  {
   "cell_type": "code",
   "execution_count": null,
   "metadata": {},
   "outputs": [],
   "source": [
    "output_file(\"%s/figures/model_eval.html\" % base_dir)\n",
    "\n",
    "nBinsR = 33\n",
    "histoArray = [\n",
    "    #hists as function of R\n",
    "    {\"name\": \"RCorrR\", \"variables\": [\"r\", \"flucCorrR\"], \"nbins\": [nBinsR, 50], \"axis\": [1]},           #true correction\n",
    "    {\"name\": \"RCorrPredR\", \"variables\": [\"r\", \"flucCorrRPred\"], \"nbins\": [nBinsR, 50], \"axis\": [1]},   #predicted correction\n",
    "    {\"name\": \"hisdiffR\", \"variables\": [\"r\", \"diffCorrR\"],\"nbins\": [nBinsR, 50], \"axis\": [1]},          #difference between true and predicted corrections\n",
    "    #hists as function of Phi\n",
    "    {\"name\": \"RCorrPhi\", \"variables\": [\"phi\", \"flucCorrR\"], \"nbins\": [nBinsR, 50], \"axis\": [1]},          \n",
    "    {\"name\": \"RCorrPredPhi\", \"variables\": [\"phi\", \"flucCorrRPred\"], \"nbins\": [nBinsR, 50], \"axis\": [1]},   \n",
    "    {\"name\": \"hisdiffPhi\", \"variables\": [\"phi\", \"diffCorrR\"],\"nbins\": [nBinsR, 50], \"axis\": [1]}, \n",
    "]\n",
    "\n",
    "figureArray = [\n",
    "    #R Histograms\n",
    "    [['r'], ['flucCorrR']],      #corresponds to RCorrR\n",
    "    [['r'], ['flucCorrRPred']],  #corresponda to RCorrPredR\n",
    "    [['r'], ['diffCorrR']],      #corresponds to hisdiffR\n",
    "    [['r'], ['hisdiffR']],       #2D hist\n",
    "    [['hisdiffR_1.bin_center_0'], ['hisdiffR_1.mean']],  #_1 defines axis, bin_center_0 -> radial axis\n",
    "    [['hisdiffR_1.bin_center_0'], ['hisdiffR_1.std']],\n",
    "    #Phi Histograms\n",
    "    [['phi'], ['flucCorrR']],\n",
    "    [['phi'], ['flucCorrRPred']],\n",
    "    [['phi'], ['diffCorrR']],\n",
    "    [['phi'], ['hisdiffPhi']],\n",
    "    [['hisdiffPhi_1.bin_center_0'], ['hisdiffPhi_1.mean']],  \n",
    "    [['hisdiffPhi_1.bin_center_0'], ['hisdiffPhi_1.std']],\n",
    "    #table\n",
    "    [\"tableHisto\", {\"rowwise\": False}]                 #holds statistical properties of histograms\n",
    "]\n",
    "\n",
    "figureLayoutDesc={\n",
    "    \"R\": [\n",
    "         [0,1,2, {'plot_height':300}],             #first row\n",
    "         [4,5, {'plot_height':200}],               #second row\n",
    "         {'plot_height':240,'sizing_mode':'scale_width',\"legend_visible\":False}\n",
    "         ],\n",
    "    \"Phi\": [\n",
    "        [6,7,8, {'plot_height':300}],\n",
    "        [10,11, {'plot_height': 200}],\n",
    "        {'plot_height':240,'sizing_mode':'scale_width',\"legend_visible\":False}],\n",
    "    \"Summary table\": [\n",
    "        [12, {'plot_height':100}]]\n",
    "}\n",
    "\n",
    "\n",
    "widgetParams=[\n",
    "    ['range', ['r']],\n",
    "    ['range', ['phi']],\n",
    "    ['range', ['z']],\n",
    "    ['range', ['deltaSC']],\n",
    "    ['multiSelect', [\"randomId\"]],\n",
    "    ['multiSelect', [\"meanId\"]]\n",
    "]\n",
    "\n",
    "widgetLayoutDesc=[ \n",
    "    [0, 1, 2, 3],\n",
    "    [4, 5],\n",
    "    {'sizing_mode':'scale_width'} \n",
    "]\n",
    "\n",
    "tooltips = [(\"phi\", \"@phi\"), (\"r\", \"@r\"), (\"z\", \"@z\")]\n",
    "\n",
    "\n",
    "fig=bokehDrawSA.fromArray(df.sample(1000000), \"r>0 & z<1\", figureArray, widgetParams, layout=figureLayoutDesc, \n",
    "                          tooltips=tooltips, sizing_mode='scale_width', widgetLayout=widgetLayoutDesc, \n",
    "                          histogramArray=histoArray, rescaleColorMapper=True, nPointRender=6000)\n",
    "#fig=bokehDrawSA.fromArray(df.sample(1000000, replace=True), \"r>0 & z<1\", figureArray, widgetParams, layout=figureLayoutDesc, \n",
    "#                          tooltips=tooltips, sizing_mode='scale_width', widgetLayout=widgetLayoutDesc, \n",
    "#                          histogramArray=histoArray, rescaleColorMapper=True, nPointRender=6000)"
   ]
  },
  {
   "cell_type": "code",
   "execution_count": null,
   "metadata": {},
   "outputs": [],
   "source": [
    "histoArray = [\n",
    "     #hists as function of z\n",
    "    {\"name\": \"RCorrZ\", \"variables\": [\"z\", \"flucCorrR\"], \"nbins\": [25, 10], \"axis\": [0, 1]},          \n",
    "    {\"name\": \"RCorrPredZ\", \"variables\": [\"z\", \"flucCorrRPred\"], \"nbins\": [25, 10], \"axis\": [0, 1]},   \n",
    "    {\"name\": \"hisdiffZ\", \"variables\": [\"z\", \"diffCorrR\"],\"nbins\": [25, 20], \"axis\": [0, 1]}, \n",
    "]\n",
    "\n",
    "figureArray = [\n",
    "    #Z Histograms\n",
    "    [['z'], ['flucCorrR']],\n",
    "    [['z'], ['flucCorrRPred']],\n",
    "    [['z'], ['diffCorrR']],\n",
    "    [['z'], ['hisdiffZ']],\n",
    "    [['hisdiffZ_1.bin_center_0'], ['hisdiffZ_1.mean']], \n",
    "    [['hisdiffZ_1.bin_center_0'], ['hisdiffZ_1.std']],\n",
    "    #R table\n",
    "    [\"tableHisto\", {\"rowwise\": False}]                 #holds statistical properties of histograms\n",
    "]\n",
    "\n",
    "\n",
    "figureLayoutDesc={\n",
    "    \"Z\": [\n",
    "         [0,1,2, {'plot_height':400}],             #first row\n",
    "         [3,4,5, {'plot_height':400}],               #second row\n",
    "         [6, {'plot_height':100}],\n",
    "         {'plot_height':240,'sizing_mode':'scale_width',\"legend_visible\":False}\n",
    "         ]\n",
    "}\n",
    "\n",
    "\n",
    "widgetParams=[\n",
    "    ['range', ['r']],\n",
    "    ['range', ['phi']],\n",
    "    ['range', ['z']],\n",
    "    ['multiSelect', [\"randomId\"]],\n",
    "    ['multiSelect', [\"meanId\"]],\n",
    "    ['range', ['deltaSC']]\n",
    "]\n",
    "\n",
    "widgetLayoutDesc=[ \n",
    "    [0, 1, 2],\n",
    "    [3, 4, 5],\n",
    "    {'sizing_mode':'scale_width'} \n",
    "]\n",
    "\n",
    "tooltips = [(\"phi\", \"@phi\"), (\"r\", \"@r\"), (\"z\", \"@z\")]\n",
    "\n",
    "#restrict r to view full z\n",
    "fig=bokehDrawSA.fromArray(df.sample(1000000), \"r<84 & z>0\", figureArray, widgetParams, layout=figureLayoutDesc, \n",
    "                          tooltips=tooltips, sizing_mode='scale_width', widgetLayout=widgetLayoutDesc, \n",
    "                          histogramArray=histoArray, rescaleColorMapper=True, nPointRender=6000)\n"
   ]
  },
  {
   "cell_type": "code",
   "execution_count": null,
   "metadata": {},
   "outputs": [],
   "source": []
  }
 ],
 "metadata": {
  "kernelspec": {
   "display_name": "Python 3",
   "language": "python",
   "name": "python3"
  },
  "language_info": {
   "codemirror_mode": {
    "name": "ipython",
    "version": 3
   },
   "file_extension": ".py",
   "mimetype": "text/x-python",
   "name": "python",
   "nbconvert_exporter": "python",
   "pygments_lexer": "ipython3",
   "version": "3.6.9"
  },
  "toc": {
   "base_numbering": 1,
   "nav_menu": {},
   "number_sections": false,
   "sideBar": false,
   "skip_h1_title": false,
   "title_cell": "Table of Contents",
   "title_sidebar": "Contents",
   "toc_cell": false,
   "toc_position": {},
   "toc_section_display": false,
   "toc_window_display": false
  }
 },
 "nbformat": 4,
 "nbformat_minor": 4
}
