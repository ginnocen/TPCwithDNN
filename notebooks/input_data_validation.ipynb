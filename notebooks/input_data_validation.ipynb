{
 "cells": [
  {
   "cell_type": "markdown",
   "metadata": {},
   "source": [
    "# Input data validation\n"
   ]
  },
  {
   "cell_type": "markdown",
   "metadata": {},
   "source": [
    "## Define basic variables first:\n",
    "* Directory variables\n",
    "* Modules to be loaded\n",
    "* Default cut selections\n",
    "\n",
    "The working directory will be the TPCwithDNN repository in order to load necessary modules. Therefore, the paths in which the figures should be stored need to be absolute paths."
   ]
  },
  {
   "cell_type": "code",
   "execution_count": null,
   "metadata": {},
   "outputs": [],
   "source": [
    "## directory variables\n",
    "working_dir = \"/home/maja/CERN_part/CERN/TPCML/TPCwithDNN/tpcwithdnn/\"\n",
    "base_dir = \"/home/maja/CERN_part/CERN/TPCML/TPCwithDNN/tpcwithdnn/\"\n",
    "plot_dir = base_dir + \"plots/\"\n",
    "# model_dir = working_dir + \"model_new_random/\"\n",
    "# input_dir = \"/lustre/alice/users/mkleiner/NOTESData/JIRA/ATO-439/nobias/SC-33-33-180/\"\n",
    "import os\n",
    "os.chdir(working_dir)\n",
    "\n",
    "## import modules\n",
    "import numpy as np\n",
    "import pandas as pd\n",
    "from RootInteractive.InteractiveDrawing.bokeh.bokehDrawSA import *\n",
    "from RootInteractive.Tools.aliTreePlayer import *\n",
    "from bokeh.io import output_notebook\n",
    "output_notebook()\n",
    "\n",
    "## print outs\n",
    "print(\"Working directory: %s\" % working_dir)\n",
    "# print(\"Model directory: %s\" % model_dir)\n",
    "# print(\"Input directory: %s\" % input_dir)\n",
    "print(\"Storage directory: %s\" % plot_dir)\n",
    "\n",
    "\n",
    "## global plot parameters\n",
    "tooltips = [(\"r\", \"(@r)\"), (\"phi\", \"(@phi)\"), (\"z\", \"(@z)\")]\n",
    "figureLayout = [\n",
    "    [0, {'plot_height': 150}],\n",
    "    {'sizing_mode':'scale_width'}\n",
    "    ]\n",
    "widgetLayout = [[0,1,2], {'sizing_mode':'scale_width'}]"
   ]
  },
  {
   "cell_type": "markdown",
   "metadata": {},
   "source": [
    "## Load trees"
   ]
  },
  {
   "cell_type": "code",
   "execution_count": null,
   "metadata": {},
   "outputs": [],
   "source": [
    "val_list_path = base_dir + \"valtrees.list\"\n",
    "tree, treeList, fileList = LoadTrees(\"cat \" + val_list_path, \"validation\", \"xxx\", \"\", 0)\n",
    "tree.Show(1)"
   ]
  },
  {
   "cell_type": "markdown",
   "metadata": {},
   "source": [
    "## Validation plots"
   ]
  },
  {
   "cell_type": "markdown",
   "metadata": {},
   "source": [
    "Default cuts:\n",
    "* z < 5 cm\n",
    "* r < 120\n",
    "\n",
    "TODO: Do we want also 1-D distributions? (flucDist{R,RPhi,Z}, meanDist{R,RPhi,Z}, derRefMeanDist{R,RPhi,Z})."
   ]
  },
  {
   "cell_type": "code",
   "execution_count": null,
   "metadata": {},
   "outputs": [],
   "source": [
    "## default cut selections - without them it is too big\n",
    "selection = \"z<5 && r<120\"\n",
    "\n",
    "## load quantities to plot\n",
    "df = tree2Panda(tree, [\"phi\", \"r\", \"z\", \".*flucSC\", \".*meanSC\", \".*derRefMeanSC\"], selection, exclude = [\"validation.*\", \"meanSC\", \"flucSC\", \"derRefMeanSC\"], columnMask = [[\"validation_\", \"\"], [\"model_\", \"\"]])\n",
    "display(df.columns)\n",
    "\n",
    "# print(df)"
   ]
  },
  {
   "cell_type": "markdown",
   "metadata": {},
   "source": [
    "### 3D distributions vs r"
   ]
  },
  {
   "cell_type": "code",
   "execution_count": null,
   "metadata": {
    "scrolled": true
   },
   "outputs": [],
   "source": [
    "output_file(plot_dir + \"figValidation_SC_r.html\")\n",
    "figureArraySec = [\n",
    "    [['r'], ['mean0_9_meanSC', 'mean1_0_meanSC', 'mean1_1_meanSC'], {\"size\": 4}],\n",
    "    [['r'], ['mean0_9_flucSC', 'mean1_0_flucSC', 'mean1_1_flucSC'], {\"size\": 4}],\n",
    "    [['r'], ['mean0_9_derRefMeanSC', 'mean1_0_derRefMeanSC', 'mean1_1_derRefMeanSC',], {\"size\": 4}],\n",
    "    ]\n",
    "figureLayoutSec = [\n",
    "    [0, {'plot_height': 150}],\n",
    "    [1, {'plot_height': 150}],\n",
    "    [2, {'plot_height': 150}],\n",
    "    {'sizing_mode':'scale_width'}\n",
    "    ]\n",
    "widgetParamsSec = [\n",
    "    ['range', ['r']],\n",
    "    ['range', ['phi']],\n",
    "    ]\n",
    "widgetLayoutSec = [[0,1], {'sizing_mode':'scale_width'}]\n",
    "selectionSec = \"z<5 & r<120\"\n",
    "bokehDrawSA.fromArray(df, selectionSec, figureArraySec, widgetParamsSec, layout=figureLayoutSec, tooltips=tooltips, widgetLayout=widgetLayoutSec, sizing_mode='scale_width')"
   ]
  },
  {
   "cell_type": "markdown",
   "metadata": {},
   "source": [
    "### 3D distributions vs phi"
   ]
  },
  {
   "cell_type": "code",
   "execution_count": null,
   "metadata": {},
   "outputs": [],
   "source": [
    "output_file(plot_dir + \"figValidation_SC_phi.html\")\n",
    "figureArraySec = [\n",
    "    [['phi'], ['mean0_9_meanSC', 'mean1_0_meanSC', 'mean1_1_meanSC'], {\"size\": 4}],\n",
    "    [['phi'], ['mean0_9_flucSC', 'mean1_0_flucSC', 'mean1_1_flucSC'], {\"size\": 4}],\n",
    "    [['phi'], ['mean0_9_derRefMeanSC', 'mean1_0_derRefMeanSC', 'mean1_1_derRefMeanSC',], {\"size\": 4}],\n",
    "    ]\n",
    "figureLayoutSec = [\n",
    "    [0, {'plot_height': 150}],\n",
    "    [1, {'plot_height': 150}],\n",
    "    [2, {'plot_height': 150}],\n",
    "    {'sizing_mode':'scale_width'}\n",
    "    ]\n",
    "widgetParamsSec = [\n",
    "    ['range', ['r']],\n",
    "    ['range', ['phi']],\n",
    "    ]\n",
    "widgetLayoutSec = [[0,1], {'sizing_mode':'scale_width'}]\n",
    "selectionSec = \"z<5 & r<120\"\n",
    "bokehDrawSA.fromArray(df, selectionSec, figureArraySec, widgetParamsSec, layout=figureLayoutSec, tooltips=tooltips, widgetLayout=widgetLayoutSec, sizing_mode='scale_width')"
   ]
  },
  {
   "cell_type": "markdown",
   "metadata": {},
   "source": [
    "### 1D R distributions"
   ]
  },
  {
   "cell_type": "code",
   "execution_count": null,
   "metadata": {},
   "outputs": [],
   "source": [
    "## default cut selections - without them it is too big\n",
    "selection = \"z<5 && r<120\"\n",
    "\n",
    "## load quantities to plot\n",
    "dfr = tree2Panda(tree, [\"phi\", \"r\", \"z\", \".*flucDistR\", \".*meanDistR\", \".*derRefMeanDistR\", \".*flucDistRPred\"], selection, exclude = [\"validation.*\", \"meanDistR\", \"flucDistR\", \"derRefMeanDistR\"], columnMask = [[\"validation_\", \"\"], [\"model_\", \"\"]])\n",
    "display(dfr.columns)\n",
    "\n",
    "# print(dfr)"
   ]
  },
  {
   "cell_type": "code",
   "execution_count": null,
   "metadata": {},
   "outputs": [],
   "source": [
    "output_file(plot_dir + \"figValidation_distr_r.html\")\n",
    "figureArraySec = [\n",
    "    [['r'], ['mean0_9_meanDistR', 'mean1_0_meanDistR', 'mean1_1_meanDistR'], {\"size\": 4}],\n",
    "    [['r'], ['mean0_9_flucDistR', 'mean1_0_flucDistR', 'mean1_1_flucDistR'], {\"size\": 4}],\n",
    "    [['r'], ['mean0_9_derRefMeanDistR', 'mean1_0_derRefMeanDistR', 'mean1_1_derRefMeanDistR'], {\"size\": 4}],\n",
    "    ]\n",
    "figureLayoutSec = [\n",
    "    [0, {'plot_height': 150}],\n",
    "    [1, {'plot_height': 150}],\n",
    "    [2, {'plot_height': 150}],\n",
    "    {'sizing_mode':'scale_width'}\n",
    "    ]\n",
    "widgetParamsSec = [\n",
    "    ['range', ['r']],\n",
    "    ['range', ['phi']],\n",
    "    # ['range', ['z']],\n",
    "    ]\n",
    "widgetLayoutSec = [[0,1], {'sizing_mode':'scale_width'}]\n",
    "selectionSec = \"z<5 & r<120\"\n",
    "bokehDrawSA.fromArray(dfr, selectionSec, figureArraySec, widgetParamsSec, layout=figureLayoutSec, tooltips=tooltips, widgetLayout=widgetLayoutSec, sizing_mode='scale_width')"
   ]
  },
  {
   "cell_type": "code",
   "execution_count": null,
   "metadata": {},
   "outputs": [],
   "source": [
    "output_file(plot_dir + \"figValidation_distrfluc_distrflucpred.html\")\n",
    "figureArraySec = [\n",
    "    [['r'], ['mean0_9_flucDistR', 'mean0_9_flucDistRPred'], {\"size\": 4}],\n",
    "    [['r'], ['mean1_0_flucDistR', 'mean1_0_flucDistRPred'], {\"size\": 4}],\n",
    "    [['r'], ['mean1_1_flucDistR', 'mean1_1_flucDistRPred'], {\"size\": 4}],\n",
    "    ]\n",
    "figureLayoutSec = [\n",
    "    [0, {'plot_height': 150}],\n",
    "    [1, {'plot_height': 150}],\n",
    "    [2, {'plot_height': 150}],\n",
    "    {'sizing_mode':'scale_width'}\n",
    "    ]\n",
    "widgetParamsSec = [\n",
    "    ['range', ['r']],\n",
    "    ['range', ['phi']],\n",
    "    # ['range', ['z']],\n",
    "    ]\n",
    "widgetLayoutSec = [[0,1], {'sizing_mode':'scale_width'}]\n",
    "selectionSec = \"z<5 & r<120\"\n",
    "bokehDrawSA.fromArray(dfr, selectionSec, figureArraySec, widgetParamsSec, layout=figureLayoutSec, tooltips=tooltips, widgetLayout=widgetLayoutSec, sizing_mode='scale_width')"
   ]
  },
  {
   "cell_type": "markdown",
   "metadata": {},
   "source": [
    "### 1D phi distributions"
   ]
  },
  {
   "cell_type": "code",
   "execution_count": null,
   "metadata": {},
   "outputs": [],
   "source": [
    "## default cut selections - without them it is too big\n",
    "selection = \"z<5 && r<120\"\n",
    "\n",
    "## load quantities to plot\n",
    "dfphi = tree2Panda(tree, [\"phi\", \"r\", \"z\", \".*flucDistRPhi\", \".*meanDistRPhi\", \".*derRefMeanDistRPhi\"], selection, exclude = [\"validation.*\", \"meanDistRPhi\", \"flucDistRPhi\", \"derRefMeanDistRPhi\"], columnMask = [[\"validation_\", \"\"], [\"model_\", \"\"]])\n",
    "display(dfphi.columns)\n",
    "\n",
    "# print(dfr)"
   ]
  },
  {
   "cell_type": "code",
   "execution_count": null,
   "metadata": {},
   "outputs": [],
   "source": [
    "output_file(plot_dir + \"figValidation_distphi_phi.html\")\n",
    "figureArraySec = [\n",
    "    [['phi'], ['mean0_9_meanDistRPhi', 'mean1_0_meanDistRPhi', 'mean1_1_meanDistRPhi'], {\"size\": 4}],\n",
    "    [['phi'], ['mean0_9_flucDistRPhi', 'mean1_0_flucDistRPhi', 'mean1_1_flucDistRPhi'], {\"size\": 4}],\n",
    "    [['phi'], ['mean0_9_derRefMeanDistRPhi', 'mean1_0_derRefMeanDistRPhi', 'mean1_1_derRefMeanDistRPhi'], {\"size\": 4}],\n",
    "    ]\n",
    "figureLayoutSec = [\n",
    "    [0, {'plot_height': 150}],\n",
    "    [1, {'plot_height': 150}],\n",
    "    [2, {'plot_height': 150}],\n",
    "    {'sizing_mode':'scale_width'}\n",
    "    ]\n",
    "widgetParamsSec = [\n",
    "    ['range', ['r']],\n",
    "    ['range', ['phi']],\n",
    "    # ['range', ['z']],\n",
    "    ]\n",
    "widgetLayoutSec = [[0,1], {'sizing_mode':'scale_width'}]\n",
    "selectionSec = \"z<5 & r<120\"\n",
    "bokehDrawSA.fromArray(dfphi, selectionSec, figureArraySec, widgetParamsSec, layout=figureLayoutSec, tooltips=tooltips, widgetLayout=widgetLayoutSec, sizing_mode='scale_width')"
   ]
  }
 ],
 "metadata": {
  "kernelspec": {
   "display_name": "Python 3",
   "language": "python",
   "name": "python3"
  },
  "language_info": {
   "codemirror_mode": {
    "name": "ipython",
    "version": 3
   },
   "file_extension": ".py",
   "mimetype": "text/x-python",
   "name": "python",
   "nbconvert_exporter": "python",
   "pygments_lexer": "ipython3",
   "version": "3.6.9"
  }
 },
 "nbformat": 4,
 "nbformat_minor": 2
}
