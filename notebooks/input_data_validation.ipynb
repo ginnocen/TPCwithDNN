{
 "cells": [
  {
   "cell_type": "markdown",
   "metadata": {},
   "source": [
    "# Input data validation\n"
   ]
  },
  {
   "cell_type": "markdown",
   "metadata": {},
   "source": [
    "## Define basic variables first:\n",
    "* Directory variables\n",
    "* Modules to be loaded\n",
    "* Default cut selections\n",
    "\n",
    "The working directory will be the TPCwithDNN repository in order to load necessary modules. Therefore, the paths in which the figures should be stored need to be absolute paths."
   ]
  },
  {
   "cell_type": "code",
   "execution_count": null,
   "metadata": {},
   "outputs": [],
   "source": [
    "## directory variables\n",
    "working_dir = \"/home/mkabus/TPCwithDNN/tpcwithdnn/\"\n",
    "base_dir = \"/home/mkabus/TPCwithDNN/tpcwithdnn/\"\n",
    "plot_dir = base_dir + \"plots/\"\n",
    "# model_dir = working_dir + \"model_new_random/\"\n",
    "# input_dir = \"/lustre/alice/users/mkleiner/NOTESData/JIRA/ATO-439/nobias/SC-33-33-180/\"\n",
    "import os\n",
    "os.chdir(working_dir)\n",
    "\n",
    "## import modules\n",
    "import numpy as np\n",
    "import pandas as pd\n",
    "from RootInteractive.InteractiveDrawing.bokeh.bokehDrawSA import *\n",
    "from RootInteractive.Tools.aliTreePlayer import *\n",
    "from bokeh.io import output_notebook\n",
    "output_notebook()\n",
    "\n",
    "## print outs\n",
    "print(\"Working directory: %s\" % working_dir)\n",
    "# print(\"Model directory: %s\" % model_dir)\n",
    "# print(\"Input directory: %s\" % input_dir)\n",
    "print(\"Storage directory: %s\" % plot_dir)\n",
    "\n",
    "\n",
    "## global plot parameters\n",
    "tooltips = [(\"r\", \"(@r)\"), (\"phi\", \"(@phi)\"), (\"z\", \"(@z)\"), (\"meanMap\", \"(@meanMap)\")]\n",
    "figureLayout = [\n",
    "    [0, {'plot_height': 150}],\n",
    "    {'sizing_mode':'scale_width'}\n",
    "    ]\n",
    "widgetLayout = [[0,1,2], {'sizing_mode':'scale_width'}]"
   ]
  },
  {
   "cell_type": "markdown",
   "metadata": {},
   "source": [
    "<br>\n",
    "<br>\n",
    "<br>\n",
    "\n",
    "## Load trees"
   ]
  },
  {
   "cell_type": "code",
   "execution_count": null,
   "metadata": {},
   "outputs": [],
   "source": [
    "val_list_path = base_dir + \"valtrees.list\"\n",
    "tree, treeList, fileList = LoadTrees(\"cat \" + val_list_path, \"validation\", \"xxx\", \"\", 0)\n",
    "tree.Show(100)"
   ]
  },
  {
   "cell_type": "markdown",
   "metadata": {},
   "source": [
    "<br>\n",
    "\n",
    "## Validation plots"
   ]
  },
  {
   "cell_type": "markdown",
   "metadata": {},
   "source": [
    "### Distortions and their fluctuations vs r\n",
    "Default cuts:\n",
    "* z < 5 cm"
   ]
  },
  {
   "cell_type": "code",
   "execution_count": null,
   "metadata": {},
   "outputs": [],
   "source": [
    "## default cut selections\n",
    "selection = \"z<5\"\n",
    "\n",
    "## load variables tree\n",
    "dfVariables = tree2Panda(tree, [\"phi\", \"r\", \"z\", \"deltaSC\", \"meanId\"], selection) #, exclude = [\".*pdfmaps.*\"])\n",
    "display(dfVariables.columns)\n",
    "\n",
    "## load quantities to plot\n",
    "dfDiff = tree2Panda(tree, [\".*deltaSC\", \".*flucSC\", \".*meanSC\"], selection) #, exclude = [\"pdfmaps.*\", \"fluc.*\", \".*Center\", \".*fsector\", \".*meanMap\", \".*OK\"], columnMask = [[\"pdfmaps_flucDistRDiff_means\",\"diffMean\"], [\"pdfmaps_flucDistRDiff_rmsd\",\"diffRMS\"]])\n",
    "display(dfDiff.columns)\n",
    "\n",
    "df = pd.concat([dfDiff, dfVariables], axis = 1)"
   ]
  },
  {
   "cell_type": "code",
   "execution_count": null,
   "metadata": {
    "scrolled": true
   },
   "outputs": [],
   "source": [
    "output_file(plot_dir + \"/figValidation_SC_r.html\")\n",
    "figureArraySec = [\n",
    "    [['r'], ['deltaSC', 'meanSC', 'flucSC'], {\"size\": 4}],\n",
    "    ]\n",
    "figureLayoutSec = [\n",
    "    [0, {'plot_height': 150}],\n",
    "    {'sizing_mode':'scale_width'}\n",
    "    ]\n",
    "widgetParamsSec = [\n",
    "    ['range', ['r']],\n",
    "    ['range', ['phi']],\n",
    "    ['range', ['z']],\n",
    "    ['select', ['meanMap']],\n",
    "    ]\n",
    "widgetLayoutSec = [[0,1], [2,3], {'sizing_mode':'scale_width'}]\n",
    "selectionSec = \"z<5 & r<120\"\n",
    "bokehDrawSA.fromArray(df, selectionSec, figureArraySec, widgetParamsSec, layout=figureLayoutSec, tooltips=tooltips, widgetLayout=widgetLayoutSec, sizing_mode='scale_width')"
   ]
  },
  {
   "cell_type": "code",
   "execution_count": null,
   "metadata": {},
   "outputs": [],
   "source": []
  }
 ],
 "metadata": {
  "kernelspec": {
   "display_name": "Python 3",
   "language": "python",
   "name": "python3"
  },
  "language_info": {
   "codemirror_mode": {
    "name": "ipython",
    "version": 3
   },
   "file_extension": ".py",
   "mimetype": "text/x-python",
   "name": "python",
   "nbconvert_exporter": "python",
   "pygments_lexer": "ipython3",
   "version": "3.6.9"
  }
 },
 "nbformat": 4,
 "nbformat_minor": 2
}
