{
 "cells": [
  {
   "cell_type": "markdown",
   "metadata": {},
   "source": [
    "# Input data validation\n"
   ]
  },
  {
   "cell_type": "markdown",
   "metadata": {},
   "source": [
    "## Define basic variables first:\n",
    "* Directory variables\n",
    "* Modules to be loaded\n",
    "* Default cut selections\n",
    "\n",
    "The working directory will be the TPCwithDNN repository in order to load necessary modules. Therefore, the paths in which the figures should be stored need to be absolute paths."
   ]
  },
  {
   "cell_type": "code",
   "execution_count": null,
   "metadata": {},
   "outputs": [],
   "source": [
    "## directory variables\n",
    "working_dir = \"/home/mkabus/TPCwithDNN/tpcwithdnn/\"\n",
    "base_dir = \"/home/mkabus/TPCwithDNN/tpcwithdnn/\"\n",
    "plot_dir = base_dir + \"plots/\"\n",
    "# model_dir = working_dir + \"model_new_random/\"\n",
    "# input_dir = \"/lustre/alice/users/mkleiner/NOTESData/JIRA/ATO-439/nobias/SC-33-33-180/\"\n",
    "import os\n",
    "os.chdir(working_dir)\n",
    "\n",
    "## import modules\n",
    "import numpy as np\n",
    "import pandas as pd\n",
    "from RootInteractive.InteractiveDrawing.bokeh.bokehDrawSA import *\n",
    "from RootInteractive.Tools.aliTreePlayer import *\n",
    "from bokeh.io import output_notebook\n",
    "output_notebook()\n",
    "\n",
    "## print outs\n",
    "print(\"Working directory: %s\" % working_dir)\n",
    "# print(\"Model directory: %s\" % model_dir)\n",
    "# print(\"Input directory: %s\" % input_dir)\n",
    "print(\"Storage directory: %s\" % plot_dir)\n",
    "\n",
    "\n",
    "## global plot parameters\n",
    "tooltips = [(\"r\", \"(@r)\"), (\"phi\", \"(@phi)\"), (\"z\", \"(@z)\")]\n",
    "figureLayout = [\n",
    "    [0, {'plot_height': 150}],\n",
    "    {'sizing_mode':'scale_width'}\n",
    "    ]\n",
    "widgetLayout = [[0,1,2], {'sizing_mode':'scale_width'}]"
   ]
  },
  {
   "cell_type": "markdown",
   "metadata": {},
   "source": [
    "## Load trees"
   ]
  },
  {
   "cell_type": "code",
   "execution_count": null,
   "metadata": {},
   "outputs": [],
   "source": [
    "val_list_path = base_dir + \"valtrees.list\"\n",
    "tree, treeList, fileList = LoadTrees(\"cat \" + val_list_path, \"validation\", \"xxx\", \"\", 0)\n",
    "tree.Show(1)"
   ]
  },
  {
   "cell_type": "markdown",
   "metadata": {},
   "source": [
    "## Validation plots"
   ]
  },
  {
   "cell_type": "markdown",
   "metadata": {},
   "source": [
    "Default cuts:\n",
    "* z < 5 cm\n",
    "* r < 120\n",
    "\n",
    "TODO: Do we want also 1-D distributions? (flucDist{R,RPhi,Z}, meanDist{R,RPhi,Z}, derRefMeanDist{R,RPhi,Z})."
   ]
  },
  {
   "cell_type": "code",
   "execution_count": null,
   "metadata": {},
   "outputs": [],
   "source": [
    "## default cut selections - without them it is too big\n",
    "selection = \"z<5 && r<120\"\n",
    "\n",
    "## load quantities to plot\n",
    "df = tree2Panda(tree, [\"phi\", \"r\", \"z\", \".*deltaSC\", \".*flucSC\", \".*meanSC\"], selection, exclude = [\"validation.*\", \"deltaSC\", \"meanSC\", \"flucSC\"], columnMask = [[\"validation_\", \"\"], [\"model_\", \"\"]])\n",
    "display(df.columns)\n",
    "\n",
    "# print(df)"
   ]
  },
  {
   "cell_type": "markdown",
   "metadata": {},
   "source": [
    "### 2-D plots - distortions and fluctuations vs r"
   ]
  },
  {
   "cell_type": "code",
   "execution_count": null,
   "metadata": {
    "scrolled": true
   },
   "outputs": [],
   "source": [
    "output_file(plot_dir + \"figValidation_SC_r.html\")\n",
    "figureArraySec = [\n",
    "    [['r'], ['mean0_9_deltaSC', 'mean0_9_meanSC', 'mean0_9_flucSC'], {\"size\": 4}],\n",
    "    [['r'], ['mean1_0_deltaSC', 'mean1_0_meanSC', 'mean1_0_flucSC'], {\"size\": 4}],\n",
    "    [['r'], ['mean1_1_deltaSC', 'mean1_1_meanSC', 'mean1_1_flucSC'], {\"size\": 4}],\n",
    "    ]\n",
    "figureLayoutSec = [\n",
    "    [0, {'plot_height': 150}],\n",
    "    [1, {'plot_height': 150}],\n",
    "    [2, {'plot_height': 150}],\n",
    "    {'sizing_mode':'scale_width'}\n",
    "    ]\n",
    "widgetParamsSec = [\n",
    "    ['range', ['r']],\n",
    "    ['range', ['phi']],\n",
    "    ]\n",
    "widgetLayoutSec = [[0,1], {'sizing_mode':'scale_width'}]\n",
    "selectionSec = \"z<5 & r<120\"\n",
    "bokehDrawSA.fromArray(df, selectionSec, figureArraySec, widgetParamsSec, layout=figureLayoutSec, tooltips=tooltips, widgetLayout=widgetLayoutSec, sizing_mode='scale_width')"
   ]
  },
  {
   "cell_type": "markdown",
   "metadata": {},
   "source": [
    "### 2-D plots - distortions and fluctuations vs phi"
   ]
  },
  {
   "cell_type": "code",
   "execution_count": null,
   "metadata": {},
   "outputs": [],
   "source": [
    "output_file(plot_dir + \"figValidation_SC_phi.html\")\n",
    "figureArraySec = [\n",
    "    [['phi'], ['mean0_9_deltaSC', 'mean0_9_meanSC', 'mean0_9_flucSC'], {\"size\": 4}],\n",
    "    [['phi'], ['mean1_0_deltaSC', 'mean1_0_meanSC', 'mean1_0_flucSC'], {\"size\": 4}],\n",
    "    [['phi'], ['mean1_1_deltaSC', 'mean1_1_meanSC', 'mean1_1_flucSC'], {\"size\": 4}],\n",
    "    ]\n",
    "figureLayoutSec = [\n",
    "    [0, {'plot_height': 150}],\n",
    "    [1, {'plot_height': 150}],\n",
    "    [2, {'plot_height': 150}],\n",
    "    {'sizing_mode':'scale_width'}\n",
    "    ]\n",
    "widgetParamsSec = [\n",
    "    ['range', ['r']],\n",
    "    ['range', ['phi']],\n",
    "    ]\n",
    "widgetLayoutSec = [[0,1], {'sizing_mode':'scale_width'}]\n",
    "selectionSec = \"z<5 & r<120\"\n",
    "bokehDrawSA.fromArray(df, selectionSec, figureArraySec, widgetParamsSec, layout=figureLayoutSec, tooltips=tooltips, widgetLayout=widgetLayoutSec, sizing_mode='scale_width')"
   ]
  },
  {
   "cell_type": "markdown",
   "metadata": {},
   "source": [
    "### Distortions vs r vs phi (TODO)\n",
    "How to plot 2-D colormap with RootInteractive?"
   ]
  },
  {
   "cell_type": "code",
   "execution_count": null,
   "metadata": {},
   "outputs": [],
   "source": [
    "output_file(plot_dir + \"figValidation_SC_rphi.html\")\n",
    "figureArraySec = [\n",
    "    [['r'], ['phi'], {\"size\": 4}],\n",
    "    # [['r', 'z'], ['mean1_0_deltaSC', 'mean1_0_meanSC', 'mean1_0_flucSC'], {\"size\": 4}],\n",
    "    # [['r', 'z'], ['mean1_1_deltaSC', 'mean1_1_meanSC', 'mean1_1_flucSC'], {\"size\": 4}],\n",
    "    ]\n",
    "figureLayoutSec = [\n",
    "    [0, {'plot_height': 150}],\n",
    "    # [1, {'plot_height': 150}],\n",
    "    # [2, {'plot_height': 150}],\n",
    "    {'sizing_mode':'scale_width'}\n",
    "    ]\n",
    "widgetParamsSec = [\n",
    "    ['range', ['r']],\n",
    "    ['range', ['phi']],\n",
    "    # ['range', ['z']],\n",
    "    ]\n",
    "widgetLayoutSec = [[0,1], {'sizing_mode':'scale_width'}]\n",
    "selectionSec = \"z<5 & r<120\"\n",
    "bokehDrawSA.fromArray(df, selectionSec, figureArraySec, widgetParamsSec, layout=figureLayoutSec, tooltips=tooltips, widgetLayout=widgetLayoutSec, sizing_mode='scale_width')"
   ]
  },
  {
   "cell_type": "code",
   "execution_count": null,
   "metadata": {},
   "outputs": [],
   "source": []
  }
 ],
 "metadata": {
  "kernelspec": {
   "display_name": "Python 3",
   "language": "python",
   "name": "python3"
  },
  "language_info": {
   "codemirror_mode": {
    "name": "ipython",
    "version": 3
   },
   "file_extension": ".py",
   "mimetype": "text/x-python",
   "name": "python",
   "nbconvert_exporter": "python",
   "pygments_lexer": "ipython3",
   "version": "3.6.9"
  }
 },
 "nbformat": 4,
 "nbformat_minor": 2
}
