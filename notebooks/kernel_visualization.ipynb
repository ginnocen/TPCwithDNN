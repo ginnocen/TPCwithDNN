{
 "cells": [
  {
   "cell_type": "markdown",
   "metadata": {},
   "source": [
    "# Kernel visualization\n"
   ]
  },
  {
   "cell_type": "markdown",
   "metadata": {},
   "source": [
    "### Define basic variables first:\n",
    "* Model parameters\n",
    "* Directory variables\n",
    "* Modules to be loaded\n",
    "\n",
    "The working directory will be the TPCwithDNN repository in order to load necessary modules. Therefore, the paths in which the figures should be stored need to be absolute paths."
   ]
  },
  {
   "cell_type": "code",
   "execution_count": null,
   "metadata": {},
   "outputs": [],
   "source": [
    "## directory variables\n",
    "# source_dir = \"/lustre/alice/users/hellbaer/TPCwithDNN/tpcwithdnn/\"\n",
    "source_dir = \"/home/maja/CERN_part/CERN/TPCML/TPCwithDNN/tpcwithdnn/\"\n",
    "plot_dir = \"/lustre/alice/users/hellbaer/NOTESData/JIRA/ATO-439/SC-33-33-180/plots/\"\n",
    "model_dir = source_dir + \"model_repository/v0/\"\n",
    "input_dir = \"/lustre/alice/users/mkleiner/NOTESData/JIRA/ATO-439/nobias/SC-33-33-180/\"\n",
    "import os\n",
    "os.chdir(source_dir)\n",
    "\n",
    "## import modules\n",
    "import numpy as np\n",
    "import pandas as pd\n",
    "import math\n",
    "from keras.models import model_from_json\n",
    "from symmetry_padding_3d import SymmetryPadding3d\n",
    "from analyser import getUnitChargeResponse, getLineChargeResponse, getPointChargeResponse\n",
    "from RootInteractive.InteractiveDrawing.bokeh.bokehDrawSA import *\n",
    "from bokeh.io import output_notebook\n",
    "output_notebook()\n",
    "\n",
    "## model parameters\n",
    "nphi = 180\n",
    "nr = 33\n",
    "nz = 33\n",
    "filters = 4\n",
    "pooling = 0\n",
    "dropout = 0.0\n",
    "depth = 4\n",
    "batch_normalization = 0\n",
    "use_scaler = 0\n",
    "use_sc_mean = 1\n",
    "use_sc_fluc = 1\n",
    "pred_dr = 1\n",
    "pred_drphi = 0\n",
    "pred_dz = 0\n",
    "output_pred = [pred_dr, pred_drphi, pred_dz]\n",
    "\n",
    "## print outs\n",
    "print(\"Working directory: %s\" % source_dir)\n",
    "print(\"Model directory: %s\" % model_dir)\n",
    "print(\"Input directory: %s\" % input_dir)\n",
    "print(\"Storage directory: %s\" % plot_dir)\n",
    "\n",
    "\n",
    "## global plot parameters\n",
    "tooltips = [(\"r\", \"(@r)\"), (\"phi\", \"(@phi)\"), (\"sec\", \"(@sector)\"), (\"z\", \"(@z)\"), (\"nEvTrain\", \"(@nEvTrain)\")]\n",
    "figureLayout = [\n",
    "    [0, {'plot_height': 150}],\n",
    "    {'sizing_mode':'scale_width'}\n",
    "    ]\n",
    "widgetLayout = [[0,1,2], {'sizing_mode':'scale_width'}]"
   ]
  },
  {
   "cell_type": "markdown",
   "metadata": {},
   "source": [
    "<br>\n",
    "<br>\n",
    "<br>\n",
    "\n",
    "## Unit charge\n",
    "### Evaluation of the response of the trained models to a uniform SC density in the whole TPC as a function of the position and the number of training events\n",
    "\n",
    "#### Unit charge: create the data\n",
    "The SC density fluctuation and mean SC density can be chosen arbitrarily. The average mean SC density is ~0.4 C/cm^3. \n",
    "Example: Mean SC density = 0.4, SC density fluctuation = 0 should result in zero distortion fluctuations. "
   ]
  },
  {
   "cell_type": "code",
   "execution_count": null,
   "metadata": {},
   "outputs": [],
   "source": [
    "## sc density fluctuation and mean values for unit charge\n",
    "unit_sc_fluc = 0.0\n",
    "unit_sc_mean = 0.4\n",
    "\n",
    "df_unit = pd.DataFrame()\n",
    "for nevents in [1000, 5000, 10000, 20000]:\n",
    "    ## define model suffix\n",
    "    model_files = model_dir + \"modelphi%d_r%d_z%d_filter%d_poo%d_drop%.2f_depth%d_batch%d_scaler%d_useSCMean%d_useSCFluc%d_pred_doR%d_dophi%d_doz%d_Nev%d\" % \\\n",
    "    (nphi, nr, nz, \\\n",
    "    filters, pooling, dropout, depth, batch_normalization, use_scaler, \\\n",
    "    use_sc_mean, use_sc_fluc, \\\n",
    "    pred_dr, pred_drphi, pred_dz, \\\n",
    "    nevents)\n",
    "    print(\"Model: %s\" % model_files)\n",
    "\n",
    "    dfmodel_unit = getUnitChargeResponse(nphi, nr, nz, model_files, input_dir, unit_sc_fluc, unit_sc_mean, output_pred)\n",
    "    dfmodel_unit['nEvTrain'] = nevents\n",
    "    df_unit = df_unit.append(dfmodel_unit, ignore_index = True)\n",
    "df_unit['sector'] = df_unit['phi'] / math.pi * 9"
   ]
  },
  {
   "cell_type": "markdown",
   "metadata": {},
   "source": [
    "#### Unit charge: phi dependence\n",
    "* z < 5 cm"
   ]
  },
  {
   "cell_type": "code",
   "execution_count": null,
   "metadata": {},
   "outputs": [],
   "source": [
    "## unit charge phi dependence\n",
    "output_file(plot_dir + \"/figResponse_unitCharge_phi.html\")\n",
    "figureArraySec = [\n",
    "    [['sector'], ['flucDistRPred'], {\"size\": 4, \"colorZvar\": \"nEvTrain\"}],\n",
    "    ]\n",
    "widgetParamsSec = [\n",
    "    ['range', ['sector']],\n",
    "    ['slider', ['r']],\n",
    "    ['range', ['nEvTrain']]\n",
    "    ]\n",
    "bokehDrawSA.fromArray(df_unit, \"z<5\", figureArraySec, widgetParamsSec, layout=figureLayout, tooltips=tooltips, widgetLayout=widgetLayout, sizing_mode='scale_width')"
   ]
  },
  {
   "cell_type": "markdown",
   "metadata": {},
   "source": [
    "#### Unit charge: \n",
    "#### r dependence\n",
    "* z < 5 cm\n",
    "\n",
    "#### z dependence\n",
    "* sector 9"
   ]
  },
  {
   "cell_type": "code",
   "execution_count": null,
   "metadata": {},
   "outputs": [],
   "source": [
    "## r dependence\n",
    "output_file(plot_dir + \"/figResponse_unitCharge_r.html\")\n",
    "figureArrayR = [\n",
    "    [['r'], ['flucDistRPred'], {\"size\": 4, \"colorZvar\": \"nEvTrain\"}],\n",
    "    ]\n",
    "widgetParamsR = [\n",
    "    ['slider', ['sector']],\n",
    "    ['range', ['r']],\n",
    "    ['range', ['nEvTrain']]\n",
    "    ]\n",
    "bokehDrawSA.fromArray(df_unit, \"z<5\", figureArrayR, widgetParamsR, layout=figureLayout, tooltips=tooltips, widgetLayout=widgetLayout, sizing_mode='scale_width')\n",
    "\n",
    "## z dependence\n",
    "output_file(plot_dir + \"/figResponse_unitCharge_z.html\")\n",
    "figureArrayZ = [\n",
    "    [['z'], ['flucDistRPred'], {\"size\": 4, \"colorZvar\": \"nEvTrain\"}],\n",
    "    ]\n",
    "widgetParamsZ = [\n",
    "    ['range', ['sector']],\n",
    "    ['slider', ['r']],\n",
    "    ['range', ['nEvTrain']]\n",
    "    ]\n",
    "bokehDrawSA.fromArray(df_unit, \"abs(sector-9.5)<0.5\", figureArrayZ, widgetParamsZ, layout=figureLayout, tooltips=tooltips, widgetLayout=widgetLayout, sizing_mode='scale_width')"
   ]
  },
  {
   "cell_type": "markdown",
   "metadata": {},
   "source": [
    "<br>\n",
    "<br>\n",
    "<br>\n",
    "\n",
    "## Line charge\n",
    "### Evaluation of the response of the trained models to a line charge with an arbitrary position and SC density. The characteristic shape of such a scenario as a function of r and phi is well-known from RUN 2 data where it is observed at several sector boundaries of IROCs. A linear z dependence is expected for a constant line charge. \n",
    "\n",
    "#### Example plot from RUN 2: data (left), analytical model (middle), difference (right)\n",
    "* Upper panel: dr vs r, color: Δphi (distance from the line charge)\n",
    "* Lower panel: drphi vs r, color: Δphi (distance from the line charge)\n",
    "<img src=\"../figures/lineChargeRUN2_dist-vs-r.png\" width=800 height=300 />\n",
    "\n",
    "#### Line charge: create the data\n",
    "The position of the line charge is defined by *line_iphi* and *line_ir* which are the bin numbers in phi and r direction. The line charge extends over the full drift (z). The sc density of the line charge is defined by *line_sc_fluc* and *line_sc_mean* which are the density fluctuation and mean density.\n",
    "* Default position:\n",
    "    * sector bin 90 (= sector 9.0 for nphi = 180)\n",
    "    * r bin 5 (= radius 110 cm for nr = 33)\n",
    "* Default charge\n",
    "    * fluctuation = 0.1\n",
    "    * mean = 0.4"
   ]
  },
  {
   "cell_type": "code",
   "execution_count": null,
   "metadata": {},
   "outputs": [],
   "source": [
    "## position (iphi, ir), sc density fluctuation and mean of line charge\n",
    "line_iphi = 90\n",
    "line_ir = 5\n",
    "line_sc_fluc = 0.1\n",
    "line_sc_mean = 0.4\n",
    "\n",
    "df_line = pd.DataFrame()\n",
    "for nevents in [1000, 5000, 10000, 20000]:\n",
    "    ## define model suffix\n",
    "    model_files = model_dir + \"modelphi%d_r%d_z%d_filter%d_poo%d_drop%.2f_depth%d_batch%d_scaler%d_useSCMean%d_useSCFluc%d_pred_doR%d_dophi%d_doz%d_Nev%d\" % \\\n",
    "    (nphi, nr, nz, \\\n",
    "    filters, pooling, dropout, depth, batch_normalization, use_scaler, \\\n",
    "    use_sc_mean, use_sc_fluc, \\\n",
    "    pred_dr, pred_drphi, pred_dz, \\\n",
    "    nevents)\n",
    "    print(\"Model: %s\" % model_files)\n",
    "\n",
    "    dfmodel_line = getLineChargeResponse(nphi, nr, nz, model_files, input_dir, line_iphi, line_ir, line_sc_fluc, line_sc_mean, output_pred)\n",
    "    dfmodel_line['nEvTrain'] = nevents\n",
    "    df_line = df_line.append(dfmodel_line, ignore_index = True)\n",
    "df_line['sector'] = df_line['phi'] / math.pi * 9\n"
   ]
  },
  {
   "cell_type": "markdown",
   "metadata": {},
   "source": [
    "#### Line charge: phi and r dependence\n",
    "* z < 5 cm\n",
    "* sectors 8, 9, 10\n",
    "* 95 cm < r < 125 cm"
   ]
  },
  {
   "cell_type": "code",
   "execution_count": null,
   "metadata": {},
   "outputs": [],
   "source": [
    "## line charge phi and r dependence\n",
    "output_file(plot_dir + \"/figResponse_lineCharge_phi-r.html\")\n",
    "figureLine = [\n",
    "    [['sector'], ['flucSC', 'meanSC'], {\"size\": 4}],\n",
    "    [['r'], ['flucSC', 'meanSC'], {\"size\": 4}],\n",
    "    [['sector'], ['flucDistRPred'], {\"size\": 4, \"colorZvar\": \"r\"}],\n",
    "    [['r'], ['flucDistRPred'], {\"size\": 4, \"colorZvar\": \"sector\"}],\n",
    "    ]\n",
    "widgetsLine = [\n",
    "    ['range', ['sector']],\n",
    "    ['range', ['r']],\n",
    "    ['select', ['nEvTrain']]\n",
    "    ]\n",
    "figureLayoutLine = [\n",
    "    [0, 1, {'plot_height': 250}],\n",
    "    [2, 3, {'plot_height': 250}],\n",
    "    {'sizing_mode':'scale_width'}\n",
    "    ]\n",
    "bokehDrawSA.fromArray(df_line, \"z<5 & abs(sector-9)<1 & abs(r-110)<15\", figureLine, widgetsLine, layout=figureLayoutLine, tooltips=tooltips, widgetLayout=widgetLayout, sizing_mode='scale_width')"
   ]
  },
  {
   "cell_type": "markdown",
   "metadata": {},
   "source": [
    "#### Line charge: z dependence\n",
    "* sectors 8, 9, 10\n",
    "* 95 cm < r < 125 cm"
   ]
  },
  {
   "cell_type": "code",
   "execution_count": null,
   "metadata": {},
   "outputs": [],
   "source": [
    "## line charge z dependence\n",
    "output_file(plot_dir + \"/figResponse_lineCharge_z.html\")\n",
    "figureLineZ = [\n",
    "    [['z'], ['flucDistRPred'], {\"size\": 4, \"colorZvar\": \"r\"}],\n",
    "    ]\n",
    "widgetsLineZ = [\n",
    "    ['range', ['sector']],\n",
    "    ['range', ['r']],\n",
    "    ['select', ['nEvTrain']]\n",
    "    ]\n",
    "bokehDrawSA.fromArray(df_line, \"abs(sector-9)<1 & abs(r-110)<15\", figureLineZ, widgetsLineZ, layout=figureLayout, tooltips=tooltips, widgetLayout=widgetLayout, sizing_mode='scale_width')"
   ]
  },
  {
   "cell_type": "markdown",
   "metadata": {},
   "source": [
    "<br>\n",
    "<br>\n",
    "<br>\n",
    "\n",
    "## Point charge\n",
    "### Evaluation of the response of the trained models to a point charge with an arbitrary position and SC density. Similar scenario as for the line charge, except a characteristic z dependence is expected in addition.\n",
    "\n",
    "#### Point charge: create the data\n",
    "The position of the point charge is defined by *point_iphi*, *point_ir* and *point_iz* which are the bin numbers in phi, r and z direction. The sc density of the point charge is defined by *point_sc_fluc* and *point_sc_mean* which are the density fluctuation and mean density.\n",
    "* Default position:\n",
    "    * sector bin 90 (= sector 9.0 for nphi = 180)\n",
    "    * r bin 5 (= radius 110 cm for nr = 33)\n",
    "    * z bin 16 (= z 120 cm for nz = 33)\n",
    "* Default charge\n",
    "    * fluctuation = 10.0\n",
    "    * mean = 0.4"
   ]
  },
  {
   "cell_type": "code",
   "execution_count": null,
   "metadata": {},
   "outputs": [],
   "source": [
    "## position (iphi, ir, iz), sc density fluctuation and mean of point charge\n",
    "point_iphi = 90\n",
    "point_ir = 5\n",
    "point_iz = 16\n",
    "point_sc_fluc = 10.0\n",
    "point_sc_mean = 0.4\n",
    "\n",
    "df_point = pd.DataFrame()\n",
    "for nevents in [1000, 5000, 10000, 20000]:\n",
    "    ## define model suffix\n",
    "    model_files = model_dir + \"modelphi%d_r%d_z%d_filter%d_poo%d_drop%.2f_depth%d_batch%d_scaler%d_useSCMean%d_useSCFluc%d_pred_doR%d_dophi%d_doz%d_Nev%d\" % \\\n",
    "    (nphi, nr, nz, \\\n",
    "    filters, pooling, dropout, depth, batch_normalization, use_scaler, \\\n",
    "    use_sc_mean, use_sc_fluc, \\\n",
    "    pred_dr, pred_drphi, pred_dz, \\\n",
    "    nevents)\n",
    "    print(\"Model: %s\" % model_files)\n",
    "\n",
    "    dfmodel_point = getPointChargeResponse(nphi, nr, nz, model_files, input_dir, point_iphi, point_ir, point_iz, point_sc_fluc, point_sc_mean, output_pred)\n",
    "    dfmodel_point['nEvTrain'] = nevents\n",
    "    df_point = df_point.append(dfmodel_point, ignore_index = True)\n",
    "df_point['sector'] = df_point['phi'] / math.pi * 9"
   ]
  },
  {
   "cell_type": "code",
   "execution_count": null,
   "metadata": {},
   "outputs": [],
   "source": [
    "## point charge density\n",
    "output_file(plot_dir + \"/figResponse_pointCharge_density.html\")\n",
    "figurePointDensity = [\n",
    "    [['sector'], ['flucSC', 'meanSC'], {\"size\": 4}],\n",
    "    [['r'], ['flucSC', 'meanSC'], {\"size\": 4}],\n",
    "    [['z'], ['flucSC', 'meanSC'], {\"size\": 4}],\n",
    "    ]\n",
    "figureLayoutPointDensity = [\n",
    "    [0, 1, 2, {'plot_height': 250}],\n",
    "    {'sizing_mode':'scale_width'}\n",
    "    ]\n",
    "widgetsPointDensity = [\n",
    "    ['range', ['sector']],\n",
    "    ['range', ['r']],\n",
    "    ['range', ['z']],\n",
    "    ]\n",
    "bokehDrawSA.fromArray(df_point, \"abs(sector-9)<1 & abs(r-110)<15 & nEvTrain==10000\", figurePointDensity, widgetsPointDensity, layout=figureLayoutPointDensity, tooltips=tooltips, widgetLayout=widgetLayout, sizing_mode='scale_width')"
   ]
  },
  {
   "cell_type": "code",
   "execution_count": null,
   "metadata": {},
   "outputs": [],
   "source": [
    "## point charge\n",
    "output_file(plot_dir + \"/figResponse_pointCharge_phi-r-z.html\")\n",
    "figurePoint = [\n",
    "    [['sector'], ['flucDistRPred'], {\"size\": 4, \"colorZvar\": \"r\"}],\n",
    "    [['r'], ['flucDistRPred'], {\"size\": 4, \"colorZvar\": \"sector\"}],\n",
    "    [['z'], ['flucDistRPred'], {\"size\": 4, \"colorZvar\": \"r\"}],\n",
    "    ]\n",
    "figureLayoutPoint = [\n",
    "    [0],\n",
    "    [1],\n",
    "    [2],\n",
    "    {'plot_height': 150, 'sizing_mode':'scale_width'}\n",
    "    ]\n",
    "widgetsPoint = [\n",
    "    ['range', ['sector']],\n",
    "    ['range', ['r']],\n",
    "    ['range', ['z']],\n",
    "    ['select', ['nEvTrain']]\n",
    "    ]\n",
    "widgetsLayoutPoint = [[0,1],[2,3]]\n",
    "bokehDrawSA.fromArray(df_point, \"abs(sector-9)<1 & abs(r-110)<15\", figurePoint, widgetsPoint, layout=figureLayoutPoint, tooltips=tooltips, widgetLayout=widgetsLayoutPoint, sizing_mode='scale_width')"
   ]
  }
 ],
 "metadata": {
  "kernelspec": {
   "display_name": "Python 3",
   "language": "python",
   "name": "python3"
  },
  "language_info": {
   "codemirror_mode": {
    "name": "ipython",
    "version": 2
   },
   "file_extension": ".py",
   "mimetype": "text/x-python",
   "name": "python",
   "nbconvert_exporter": "python",
   "pygments_lexer": "ipython2",
   "version": "2.7.17"
  }
 },
 "nbformat": 4,
 "nbformat_minor": 2
}
